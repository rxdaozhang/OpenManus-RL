{
 "cells": [
  {
   "cell_type": "code",
   "execution_count": 1,
   "id": "ab432214",
   "metadata": {},
   "outputs": [
    {
     "name": "stdout",
     "output_type": "stream",
     "text": [
      "Processing /Users/joey_hong/LLM_RL\n",
      "  Preparing metadata (setup.py) ... \u001b[?25ldone\n",
      "\u001b[?25hCollecting textworld@ git+https://github.com/jxihong/TextWorld.git@main (from LLM-RL==1.0.0)\n",
      "  Cloning https://github.com/jxihong/TextWorld.git (to revision main) to /private/var/folders/g8/fjsx340n323bwwsqrm78z0y40000gp/T/pip-install-8tgfu7ce/textworld_7e769ff31e794ced8da61fdf07a5c518\n",
      "  Running command git clone --filter=blob:none --quiet https://github.com/jxihong/TextWorld.git /private/var/folders/g8/fjsx340n323bwwsqrm78z0y40000gp/T/pip-install-8tgfu7ce/textworld_7e769ff31e794ced8da61fdf07a5c518\n",
      "  Resolved https://github.com/jxihong/TextWorld.git to commit afc518cb76af12eaabe8671f580012a094ee74c9\n",
      "  Preparing metadata (setup.py) ... \u001b[?25ldone\n",
      "\u001b[?25hRequirement already satisfied: flax==0.7.2 in /Users/joey_hong/opt/anaconda3/envs/llm_rl/lib/python3.9/site-packages (from LLM-RL==1.0.0) (0.7.2)\n",
      "Requirement already satisfied: optax==0.1.3 in /Users/joey_hong/opt/anaconda3/envs/llm_rl/lib/python3.9/site-packages (from LLM-RL==1.0.0) (0.1.3)\n",
      "Requirement already satisfied: chex==0.1.5 in /Users/joey_hong/opt/anaconda3/envs/llm_rl/lib/python3.9/site-packages (from LLM-RL==1.0.0) (0.1.5)\n",
      "Requirement already satisfied: torch==1.11 in /Users/joey_hong/opt/anaconda3/envs/llm_rl/lib/python3.9/site-packages (from LLM-RL==1.0.0) (1.11.0)\n",
      "Requirement already satisfied: tqdm==4.64.0 in /Users/joey_hong/opt/anaconda3/envs/llm_rl/lib/python3.9/site-packages (from LLM-RL==1.0.0) (4.64.0)\n",
      "Requirement already satisfied: wandb==0.12.18 in /Users/joey_hong/opt/anaconda3/envs/llm_rl/lib/python3.9/site-packages (from LLM-RL==1.0.0) (0.12.18)\n",
      "Requirement already satisfied: dm-tree==0.1.7 in /Users/joey_hong/opt/anaconda3/envs/llm_rl/lib/python3.9/site-packages (from LLM-RL==1.0.0) (0.1.7)\n",
      "Requirement already satisfied: jaxtyping==0.0.2 in /Users/joey_hong/opt/anaconda3/envs/llm_rl/lib/python3.9/site-packages (from LLM-RL==1.0.0) (0.0.2)\n",
      "Requirement already satisfied: frozendict==2.3.4 in /Users/joey_hong/opt/anaconda3/envs/llm_rl/lib/python3.9/site-packages (from LLM-RL==1.0.0) (2.3.4)\n",
      "Requirement already satisfied: transformers==4.26.1 in /Users/joey_hong/opt/anaconda3/envs/llm_rl/lib/python3.9/site-packages (from LLM-RL==1.0.0) (4.26.1)\n",
      "Requirement already satisfied: six==1.16.0 in /Users/joey_hong/opt/anaconda3/envs/llm_rl/lib/python3.9/site-packages (from LLM-RL==1.0.0) (1.16.0)\n",
      "Requirement already satisfied: pyyaml==6.0 in /Users/joey_hong/opt/anaconda3/envs/llm_rl/lib/python3.9/site-packages (from LLM-RL==1.0.0) (6.0)\n",
      "Requirement already satisfied: sentencepiece==0.1.96 in /Users/joey_hong/opt/anaconda3/envs/llm_rl/lib/python3.9/site-packages (from LLM-RL==1.0.0) (0.1.96)\n",
      "Requirement already satisfied: redis==4.3.4 in /Users/joey_hong/opt/anaconda3/envs/llm_rl/lib/python3.9/site-packages (from LLM-RL==1.0.0) (4.3.4)\n",
      "Requirement already satisfied: termcolor==1.1.0 in /Users/joey_hong/opt/anaconda3/envs/llm_rl/lib/python3.9/site-packages (from LLM-RL==1.0.0) (1.1.0)\n",
      "Requirement already satisfied: google-cloud-storage==2.5.0 in /Users/joey_hong/opt/anaconda3/envs/llm_rl/lib/python3.9/site-packages (from LLM-RL==1.0.0) (2.5.0)\n",
      "Requirement already satisfied: Flask==2.2.1 in /Users/joey_hong/opt/anaconda3/envs/llm_rl/lib/python3.9/site-packages (from LLM-RL==1.0.0) (2.2.1)\n",
      "Requirement already satisfied: Flask-Cors==3.0.10 in /Users/joey_hong/opt/anaconda3/envs/llm_rl/lib/python3.9/site-packages (from LLM-RL==1.0.0) (3.0.10)\n",
      "Requirement already satisfied: jax==0.4.7 in /Users/joey_hong/opt/anaconda3/envs/llm_rl/lib/python3.9/site-packages (from LLM-RL==1.0.0) (0.4.7)\n",
      "Requirement already satisfied: jaxlib==0.4.7 in /Users/joey_hong/opt/anaconda3/envs/llm_rl/lib/python3.9/site-packages (from LLM-RL==1.0.0) (0.4.7)\n",
      "Requirement already satisfied: h5py==3.7.0 in /Users/joey_hong/opt/anaconda3/envs/llm_rl/lib/python3.9/site-packages (from LLM-RL==1.0.0) (3.7.0)\n",
      "Requirement already satisfied: scipy==1.9.0 in /Users/joey_hong/opt/anaconda3/envs/llm_rl/lib/python3.9/site-packages (from LLM-RL==1.0.0) (1.9.0)\n",
      "Requirement already satisfied: sklearn==0.0 in /Users/joey_hong/opt/anaconda3/envs/llm_rl/lib/python3.9/site-packages (from LLM-RL==1.0.0) (0.0)\n",
      "Requirement already satisfied: openai==0.27.2 in /Users/joey_hong/opt/anaconda3/envs/llm_rl/lib/python3.9/site-packages (from LLM-RL==1.0.0) (0.27.2)\n",
      "Requirement already satisfied: scikit-image==0.19.3 in /Users/joey_hong/opt/anaconda3/envs/llm_rl/lib/python3.9/site-packages (from LLM-RL==1.0.0) (0.19.3)\n",
      "Requirement already satisfied: dill==0.3.5.1 in /Users/joey_hong/opt/anaconda3/envs/llm_rl/lib/python3.9/site-packages (from LLM-RL==1.0.0) (0.3.5.1)\n",
      "Requirement already satisfied: tyro==0.3.23 in /Users/joey_hong/opt/anaconda3/envs/llm_rl/lib/python3.9/site-packages (from LLM-RL==1.0.0) (0.3.23)\n",
      "Requirement already satisfied: rouge-score==0.1.2 in /Users/joey_hong/opt/anaconda3/envs/llm_rl/lib/python3.9/site-packages (from LLM-RL==1.0.0) (0.1.2)\n",
      "Requirement already satisfied: gcsfs==2022.8.2 in /Users/joey_hong/opt/anaconda3/envs/llm_rl/lib/python3.9/site-packages (from LLM-RL==1.0.0) (2022.8.2)\n",
      "Requirement already satisfied: streamlit==1.20.0 in /Users/joey_hong/opt/anaconda3/envs/llm_rl/lib/python3.9/site-packages (from LLM-RL==1.0.0) (1.20.0)\n",
      "Requirement already satisfied: sseclient-py==1.7.2 in /Users/joey_hong/opt/anaconda3/envs/llm_rl/lib/python3.9/site-packages (from LLM-RL==1.0.0) (1.7.2)\n",
      "Requirement already satisfied: nltk==3.8.1 in /Users/joey_hong/opt/anaconda3/envs/llm_rl/lib/python3.9/site-packages (from LLM-RL==1.0.0) (3.8.1)\n",
      "Requirement already satisfied: chess in /Users/joey_hong/opt/anaconda3/envs/llm_rl/lib/python3.9/site-packages (from LLM-RL==1.0.0) (1.10.0)\n",
      "Requirement already satisfied: stockfish in /Users/joey_hong/opt/anaconda3/envs/llm_rl/lib/python3.9/site-packages (from LLM-RL==1.0.0) (3.28.0)\n",
      "Requirement already satisfied: IPython in /Users/joey_hong/opt/anaconda3/envs/llm_rl/lib/python3.9/site-packages (from LLM-RL==1.0.0) (8.15.0)\n",
      "Requirement already satisfied: absl-py>=0.9.0 in /Users/joey_hong/opt/anaconda3/envs/llm_rl/lib/python3.9/site-packages (from chex==0.1.5->LLM-RL==1.0.0) (2.0.0)\n",
      "Requirement already satisfied: numpy>=1.18.0 in /Users/joey_hong/opt/anaconda3/envs/llm_rl/lib/python3.9/site-packages (from chex==0.1.5->LLM-RL==1.0.0) (1.24.4)\n",
      "Requirement already satisfied: toolz>=0.9.0 in /Users/joey_hong/opt/anaconda3/envs/llm_rl/lib/python3.9/site-packages (from chex==0.1.5->LLM-RL==1.0.0) (0.12.0)\n",
      "Requirement already satisfied: Werkzeug>=2.2.0 in /Users/joey_hong/opt/anaconda3/envs/llm_rl/lib/python3.9/site-packages (from Flask==2.2.1->LLM-RL==1.0.0) (2.3.7)\n",
      "Requirement already satisfied: Jinja2>=3.0 in /Users/joey_hong/opt/anaconda3/envs/llm_rl/lib/python3.9/site-packages (from Flask==2.2.1->LLM-RL==1.0.0) (3.1.2)\n",
      "Requirement already satisfied: itsdangerous>=2.0 in /Users/joey_hong/opt/anaconda3/envs/llm_rl/lib/python3.9/site-packages (from Flask==2.2.1->LLM-RL==1.0.0) (2.1.2)\n",
      "Requirement already satisfied: click>=8.0 in /Users/joey_hong/opt/anaconda3/envs/llm_rl/lib/python3.9/site-packages (from Flask==2.2.1->LLM-RL==1.0.0) (8.1.7)\n",
      "Requirement already satisfied: importlib-metadata>=3.6.0 in /Users/joey_hong/opt/anaconda3/envs/llm_rl/lib/python3.9/site-packages (from Flask==2.2.1->LLM-RL==1.0.0) (6.8.0)\n",
      "Requirement already satisfied: msgpack in /Users/joey_hong/opt/anaconda3/envs/llm_rl/lib/python3.9/site-packages (from flax==0.7.2->LLM-RL==1.0.0) (1.0.7)\n",
      "Requirement already satisfied: orbax-checkpoint in /Users/joey_hong/opt/anaconda3/envs/llm_rl/lib/python3.9/site-packages (from flax==0.7.2->LLM-RL==1.0.0) (0.1.6)\n",
      "Requirement already satisfied: tensorstore in /Users/joey_hong/opt/anaconda3/envs/llm_rl/lib/python3.9/site-packages (from flax==0.7.2->LLM-RL==1.0.0) (0.1.46)\n",
      "Requirement already satisfied: rich>=11.1 in /Users/joey_hong/opt/anaconda3/envs/llm_rl/lib/python3.9/site-packages (from flax==0.7.2->LLM-RL==1.0.0) (13.6.0)\n",
      "Requirement already satisfied: typing-extensions>=4.1.1 in /Users/joey_hong/opt/anaconda3/envs/llm_rl/lib/python3.9/site-packages (from flax==0.7.2->LLM-RL==1.0.0) (4.7.1)\n",
      "Requirement already satisfied: google-auth>=1.2 in /Users/joey_hong/opt/anaconda3/envs/llm_rl/lib/python3.9/site-packages (from gcsfs==2022.8.2->LLM-RL==1.0.0) (2.23.3)\n",
      "Requirement already satisfied: google-auth-oauthlib in /Users/joey_hong/opt/anaconda3/envs/llm_rl/lib/python3.9/site-packages (from gcsfs==2022.8.2->LLM-RL==1.0.0) (1.1.0)\n",
      "Requirement already satisfied: requests in /Users/joey_hong/opt/anaconda3/envs/llm_rl/lib/python3.9/site-packages (from gcsfs==2022.8.2->LLM-RL==1.0.0) (2.31.0)\n",
      "Requirement already satisfied: decorator>4.1.2 in /Users/joey_hong/opt/anaconda3/envs/llm_rl/lib/python3.9/site-packages (from gcsfs==2022.8.2->LLM-RL==1.0.0) (5.1.1)\n",
      "Requirement already satisfied: fsspec==2022.8.2 in /Users/joey_hong/opt/anaconda3/envs/llm_rl/lib/python3.9/site-packages (from gcsfs==2022.8.2->LLM-RL==1.0.0) (2022.8.2)\n",
      "Requirement already satisfied: aiohttp!=4.0.0a0,!=4.0.0a1 in /Users/joey_hong/opt/anaconda3/envs/llm_rl/lib/python3.9/site-packages (from gcsfs==2022.8.2->LLM-RL==1.0.0) (3.8.6)\n",
      "Requirement already satisfied: google-api-core!=2.0.*,!=2.1.*,!=2.2.*,!=2.3.0,<3.0.0dev,>=1.31.5 in /Users/joey_hong/opt/anaconda3/envs/llm_rl/lib/python3.9/site-packages (from google-cloud-storage==2.5.0->LLM-RL==1.0.0) (2.12.0)\n",
      "Requirement already satisfied: google-cloud-core<3.0dev,>=2.3.0 in /Users/joey_hong/opt/anaconda3/envs/llm_rl/lib/python3.9/site-packages (from google-cloud-storage==2.5.0->LLM-RL==1.0.0) (2.3.3)\n",
      "Requirement already satisfied: google-resumable-media>=2.3.2 in /Users/joey_hong/opt/anaconda3/envs/llm_rl/lib/python3.9/site-packages (from google-cloud-storage==2.5.0->LLM-RL==1.0.0) (2.6.0)\n",
      "Requirement already satisfied: ml-dtypes>=0.0.3 in /Users/joey_hong/opt/anaconda3/envs/llm_rl/lib/python3.9/site-packages (from jax==0.4.7->LLM-RL==1.0.0) (0.3.1)\n",
      "Requirement already satisfied: opt-einsum in /Users/joey_hong/opt/anaconda3/envs/llm_rl/lib/python3.9/site-packages (from jax==0.4.7->LLM-RL==1.0.0) (3.3.0)\n",
      "Requirement already satisfied: typeguard>=2.13.3 in /Users/joey_hong/opt/anaconda3/envs/llm_rl/lib/python3.9/site-packages (from jaxtyping==0.0.2->LLM-RL==1.0.0) (4.1.5)\n",
      "Requirement already satisfied: joblib in /Users/joey_hong/opt/anaconda3/envs/llm_rl/lib/python3.9/site-packages (from nltk==3.8.1->LLM-RL==1.0.0) (1.3.2)\n",
      "Requirement already satisfied: regex>=2021.8.3 in /Users/joey_hong/opt/anaconda3/envs/llm_rl/lib/python3.9/site-packages (from nltk==3.8.1->LLM-RL==1.0.0) (2023.10.3)\n",
      "Requirement already satisfied: deprecated>=1.2.3 in /Users/joey_hong/opt/anaconda3/envs/llm_rl/lib/python3.9/site-packages (from redis==4.3.4->LLM-RL==1.0.0) (1.2.14)\n",
      "Requirement already satisfied: packaging>=20.4 in /Users/joey_hong/opt/anaconda3/envs/llm_rl/lib/python3.9/site-packages (from redis==4.3.4->LLM-RL==1.0.0) (23.1)\n",
      "Requirement already satisfied: async-timeout>=4.0.2 in /Users/joey_hong/opt/anaconda3/envs/llm_rl/lib/python3.9/site-packages (from redis==4.3.4->LLM-RL==1.0.0) (4.0.3)\n",
      "Requirement already satisfied: networkx>=2.2 in /Users/joey_hong/opt/anaconda3/envs/llm_rl/lib/python3.9/site-packages (from scikit-image==0.19.3->LLM-RL==1.0.0) (3.1)\n",
      "Requirement already satisfied: pillow!=7.1.0,!=7.1.1,!=8.3.0,>=6.1.0 in /Users/joey_hong/opt/anaconda3/envs/llm_rl/lib/python3.9/site-packages (from scikit-image==0.19.3->LLM-RL==1.0.0) (10.0.0)\n",
      "Requirement already satisfied: imageio>=2.4.1 in /Users/joey_hong/opt/anaconda3/envs/llm_rl/lib/python3.9/site-packages (from scikit-image==0.19.3->LLM-RL==1.0.0) (2.31.6)\n",
      "Requirement already satisfied: tifffile>=2019.7.26 in /Users/joey_hong/opt/anaconda3/envs/llm_rl/lib/python3.9/site-packages (from scikit-image==0.19.3->LLM-RL==1.0.0) (2023.9.26)\n",
      "Requirement already satisfied: PyWavelets>=1.1.1 in /Users/joey_hong/opt/anaconda3/envs/llm_rl/lib/python3.9/site-packages (from scikit-image==0.19.3->LLM-RL==1.0.0) (1.4.1)\n",
      "Requirement already satisfied: scikit-learn in /Users/joey_hong/opt/anaconda3/envs/llm_rl/lib/python3.9/site-packages (from sklearn==0.0->LLM-RL==1.0.0) (1.3.2)\n",
      "Requirement already satisfied: altair<5,>=3.2.0 in /Users/joey_hong/opt/anaconda3/envs/llm_rl/lib/python3.9/site-packages (from streamlit==1.20.0->LLM-RL==1.0.0) (4.2.2)\n",
      "Requirement already satisfied: blinker>=1.0.0 in /Users/joey_hong/opt/anaconda3/envs/llm_rl/lib/python3.9/site-packages (from streamlit==1.20.0->LLM-RL==1.0.0) (1.6.2)\n",
      "Requirement already satisfied: cachetools>=4.0 in /Users/joey_hong/opt/anaconda3/envs/llm_rl/lib/python3.9/site-packages (from streamlit==1.20.0->LLM-RL==1.0.0) (5.3.1)\n",
      "Requirement already satisfied: pandas<2,>=0.25 in /Users/joey_hong/opt/anaconda3/envs/llm_rl/lib/python3.9/site-packages (from streamlit==1.20.0->LLM-RL==1.0.0) (1.5.3)\n",
      "Requirement already satisfied: protobuf<4,>=3.12 in /Users/joey_hong/opt/anaconda3/envs/llm_rl/lib/python3.9/site-packages (from streamlit==1.20.0->LLM-RL==1.0.0) (3.20.3)\n",
      "Requirement already satisfied: pyarrow>=4.0 in /Users/joey_hong/opt/anaconda3/envs/llm_rl/lib/python3.9/site-packages (from streamlit==1.20.0->LLM-RL==1.0.0) (13.0.0)\n",
      "Requirement already satisfied: pympler>=0.9 in /Users/joey_hong/opt/anaconda3/envs/llm_rl/lib/python3.9/site-packages (from streamlit==1.20.0->LLM-RL==1.0.0) (1.0.1)\n",
      "Requirement already satisfied: python-dateutil in /Users/joey_hong/opt/anaconda3/envs/llm_rl/lib/python3.9/site-packages (from streamlit==1.20.0->LLM-RL==1.0.0) (2.8.2)\n",
      "Requirement already satisfied: semver in /Users/joey_hong/opt/anaconda3/envs/llm_rl/lib/python3.9/site-packages (from streamlit==1.20.0->LLM-RL==1.0.0) (3.0.2)\n",
      "Requirement already satisfied: toml in /Users/joey_hong/opt/anaconda3/envs/llm_rl/lib/python3.9/site-packages (from streamlit==1.20.0->LLM-RL==1.0.0) (0.10.2)\n",
      "Requirement already satisfied: tzlocal>=1.1 in /Users/joey_hong/opt/anaconda3/envs/llm_rl/lib/python3.9/site-packages (from streamlit==1.20.0->LLM-RL==1.0.0) (5.2)\n",
      "Requirement already satisfied: validators>=0.2 in /Users/joey_hong/opt/anaconda3/envs/llm_rl/lib/python3.9/site-packages (from streamlit==1.20.0->LLM-RL==1.0.0) (0.22.0)\n",
      "Requirement already satisfied: gitpython!=3.1.19 in /Users/joey_hong/opt/anaconda3/envs/llm_rl/lib/python3.9/site-packages (from streamlit==1.20.0->LLM-RL==1.0.0) (3.1.40)\n",
      "Requirement already satisfied: pydeck>=0.1.dev5 in /Users/joey_hong/opt/anaconda3/envs/llm_rl/lib/python3.9/site-packages (from streamlit==1.20.0->LLM-RL==1.0.0) (0.8.1b0)\n",
      "Requirement already satisfied: tornado>=6.0.3 in /Users/joey_hong/opt/anaconda3/envs/llm_rl/lib/python3.9/site-packages (from streamlit==1.20.0->LLM-RL==1.0.0) (6.3.3)\n",
      "Requirement already satisfied: filelock in /Users/joey_hong/opt/anaconda3/envs/llm_rl/lib/python3.9/site-packages (from transformers==4.26.1->LLM-RL==1.0.0) (3.12.4)\n",
      "Requirement already satisfied: huggingface-hub<1.0,>=0.11.0 in /Users/joey_hong/opt/anaconda3/envs/llm_rl/lib/python3.9/site-packages (from transformers==4.26.1->LLM-RL==1.0.0) (0.17.3)\n",
      "Requirement already satisfied: tokenizers!=0.11.3,<0.14,>=0.11.1 in /Users/joey_hong/opt/anaconda3/envs/llm_rl/lib/python3.9/site-packages (from transformers==4.26.1->LLM-RL==1.0.0) (0.13.3)\n",
      "Requirement already satisfied: docstring-parser<0.15.0,>=0.14.1 in /Users/joey_hong/opt/anaconda3/envs/llm_rl/lib/python3.9/site-packages (from tyro==0.3.23->LLM-RL==1.0.0) (0.14.1)\n",
      "Requirement already satisfied: promise<3,>=2.0 in /Users/joey_hong/opt/anaconda3/envs/llm_rl/lib/python3.9/site-packages (from wandb==0.12.18->LLM-RL==1.0.0) (2.3)\n",
      "Requirement already satisfied: shortuuid>=0.5.0 in /Users/joey_hong/opt/anaconda3/envs/llm_rl/lib/python3.9/site-packages (from wandb==0.12.18->LLM-RL==1.0.0) (1.0.11)\n",
      "Requirement already satisfied: psutil>=5.0.0 in /Users/joey_hong/opt/anaconda3/envs/llm_rl/lib/python3.9/site-packages (from wandb==0.12.18->LLM-RL==1.0.0) (5.9.5)\n",
      "Requirement already satisfied: sentry-sdk>=1.0.0 in /Users/joey_hong/opt/anaconda3/envs/llm_rl/lib/python3.9/site-packages (from wandb==0.12.18->LLM-RL==1.0.0) (1.32.0)\n",
      "Requirement already satisfied: docker-pycreds>=0.4.0 in /Users/joey_hong/opt/anaconda3/envs/llm_rl/lib/python3.9/site-packages (from wandb==0.12.18->LLM-RL==1.0.0) (0.4.0)\n",
      "Requirement already satisfied: pathtools in /Users/joey_hong/opt/anaconda3/envs/llm_rl/lib/python3.9/site-packages (from wandb==0.12.18->LLM-RL==1.0.0) (0.1.2)\n",
      "Requirement already satisfied: setproctitle in /Users/joey_hong/opt/anaconda3/envs/llm_rl/lib/python3.9/site-packages (from wandb==0.12.18->LLM-RL==1.0.0) (1.3.3)\n",
      "Requirement already satisfied: setuptools in /Users/joey_hong/opt/anaconda3/envs/llm_rl/lib/python3.9/site-packages (from wandb==0.12.18->LLM-RL==1.0.0) (68.0.0)\n",
      "Requirement already satisfied: backcall in /Users/joey_hong/opt/anaconda3/envs/llm_rl/lib/python3.9/site-packages (from IPython->LLM-RL==1.0.0) (0.2.0)\n",
      "Requirement already satisfied: jedi>=0.16 in /Users/joey_hong/opt/anaconda3/envs/llm_rl/lib/python3.9/site-packages (from IPython->LLM-RL==1.0.0) (0.19.0)\n",
      "Requirement already satisfied: matplotlib-inline in /Users/joey_hong/opt/anaconda3/envs/llm_rl/lib/python3.9/site-packages (from IPython->LLM-RL==1.0.0) (0.1.6)\n",
      "Requirement already satisfied: pickleshare in /Users/joey_hong/opt/anaconda3/envs/llm_rl/lib/python3.9/site-packages (from IPython->LLM-RL==1.0.0) (0.7.5)\n",
      "Requirement already satisfied: prompt-toolkit!=3.0.37,<3.1.0,>=3.0.30 in /Users/joey_hong/opt/anaconda3/envs/llm_rl/lib/python3.9/site-packages (from IPython->LLM-RL==1.0.0) (3.0.39)\n",
      "Requirement already satisfied: pygments>=2.4.0 in /Users/joey_hong/opt/anaconda3/envs/llm_rl/lib/python3.9/site-packages (from IPython->LLM-RL==1.0.0) (2.16.1)\n",
      "Requirement already satisfied: stack-data in /Users/joey_hong/opt/anaconda3/envs/llm_rl/lib/python3.9/site-packages (from IPython->LLM-RL==1.0.0) (0.6.2)\n",
      "Requirement already satisfied: traitlets>=5 in /Users/joey_hong/opt/anaconda3/envs/llm_rl/lib/python3.9/site-packages (from IPython->LLM-RL==1.0.0) (5.9.0)\n",
      "Requirement already satisfied: exceptiongroup in /Users/joey_hong/opt/anaconda3/envs/llm_rl/lib/python3.9/site-packages (from IPython->LLM-RL==1.0.0) (1.1.3)\n",
      "Requirement already satisfied: pexpect>4.3 in /Users/joey_hong/opt/anaconda3/envs/llm_rl/lib/python3.9/site-packages (from IPython->LLM-RL==1.0.0) (4.8.0)\n",
      "Requirement already satisfied: appnope in /Users/joey_hong/opt/anaconda3/envs/llm_rl/lib/python3.9/site-packages (from IPython->LLM-RL==1.0.0) (0.1.3)\n",
      "Requirement already satisfied: cffi>=1.0.0 in /Users/joey_hong/opt/anaconda3/envs/llm_rl/lib/python3.9/site-packages (from textworld@ git+https://github.com/jxihong/TextWorld.git@main->LLM-RL==1.0.0) (1.15.1)\n",
      "Requirement already satisfied: more_itertools in /Users/joey_hong/opt/anaconda3/envs/llm_rl/lib/python3.9/site-packages (from textworld@ git+https://github.com/jxihong/TextWorld.git@main->LLM-RL==1.0.0) (10.1.0)\n",
      "Requirement already satisfied: tatsu<5,>=4.3.0 in /Users/joey_hong/opt/anaconda3/envs/llm_rl/lib/python3.9/site-packages (from textworld@ git+https://github.com/jxihong/TextWorld.git@main->LLM-RL==1.0.0) (4.4.0)\n",
      "Requirement already satisfied: hashids>=1.2.0 in /Users/joey_hong/opt/anaconda3/envs/llm_rl/lib/python3.9/site-packages (from textworld@ git+https://github.com/jxihong/TextWorld.git@main->LLM-RL==1.0.0) (1.3.1)\n",
      "Requirement already satisfied: jericho>=3.0.3 in /Users/joey_hong/opt/anaconda3/envs/llm_rl/lib/python3.9/site-packages (from textworld@ git+https://github.com/jxihong/TextWorld.git@main->LLM-RL==1.0.0) (3.1.2)\n",
      "Requirement already satisfied: mementos>=1.3.1 in /Users/joey_hong/opt/anaconda3/envs/llm_rl/lib/python3.9/site-packages (from textworld@ git+https://github.com/jxihong/TextWorld.git@main->LLM-RL==1.0.0) (1.3.1)\n",
      "Requirement already satisfied: gym<0.26,>=0.10.11 in /Users/joey_hong/opt/anaconda3/envs/llm_rl/lib/python3.9/site-packages (from textworld@ git+https://github.com/jxihong/TextWorld.git@main->LLM-RL==1.0.0) (0.25.2)\n",
      "Requirement already satisfied: attrs>=17.3.0 in /Users/joey_hong/opt/anaconda3/envs/llm_rl/lib/python3.9/site-packages (from aiohttp!=4.0.0a0,!=4.0.0a1->gcsfs==2022.8.2->LLM-RL==1.0.0) (23.1.0)\n",
      "Requirement already satisfied: charset-normalizer<4.0,>=2.0 in /Users/joey_hong/opt/anaconda3/envs/llm_rl/lib/python3.9/site-packages (from aiohttp!=4.0.0a0,!=4.0.0a1->gcsfs==2022.8.2->LLM-RL==1.0.0) (3.2.0)\n",
      "Requirement already satisfied: multidict<7.0,>=4.5 in /Users/joey_hong/opt/anaconda3/envs/llm_rl/lib/python3.9/site-packages (from aiohttp!=4.0.0a0,!=4.0.0a1->gcsfs==2022.8.2->LLM-RL==1.0.0) (6.0.4)\n",
      "Requirement already satisfied: yarl<2.0,>=1.0 in /Users/joey_hong/opt/anaconda3/envs/llm_rl/lib/python3.9/site-packages (from aiohttp!=4.0.0a0,!=4.0.0a1->gcsfs==2022.8.2->LLM-RL==1.0.0) (1.9.2)\n",
      "Requirement already satisfied: frozenlist>=1.1.1 in /Users/joey_hong/opt/anaconda3/envs/llm_rl/lib/python3.9/site-packages (from aiohttp!=4.0.0a0,!=4.0.0a1->gcsfs==2022.8.2->LLM-RL==1.0.0) (1.4.0)\n",
      "Requirement already satisfied: aiosignal>=1.1.2 in /Users/joey_hong/opt/anaconda3/envs/llm_rl/lib/python3.9/site-packages (from aiohttp!=4.0.0a0,!=4.0.0a1->gcsfs==2022.8.2->LLM-RL==1.0.0) (1.3.1)\n",
      "Requirement already satisfied: entrypoints in /Users/joey_hong/opt/anaconda3/envs/llm_rl/lib/python3.9/site-packages (from altair<5,>=3.2.0->streamlit==1.20.0->LLM-RL==1.0.0) (0.4)\n",
      "Requirement already satisfied: jsonschema>=3.0 in /Users/joey_hong/opt/anaconda3/envs/llm_rl/lib/python3.9/site-packages (from altair<5,>=3.2.0->streamlit==1.20.0->LLM-RL==1.0.0) (4.19.0)\n",
      "Requirement already satisfied: pycparser in /Users/joey_hong/opt/anaconda3/envs/llm_rl/lib/python3.9/site-packages (from cffi>=1.0.0->textworld@ git+https://github.com/jxihong/TextWorld.git@main->LLM-RL==1.0.0) (2.21)\n",
      "Requirement already satisfied: wrapt<2,>=1.10 in /Users/joey_hong/opt/anaconda3/envs/llm_rl/lib/python3.9/site-packages (from deprecated>=1.2.3->redis==4.3.4->LLM-RL==1.0.0) (1.15.0)\n",
      "Requirement already satisfied: gitdb<5,>=4.0.1 in /Users/joey_hong/opt/anaconda3/envs/llm_rl/lib/python3.9/site-packages (from gitpython!=3.1.19->streamlit==1.20.0->LLM-RL==1.0.0) (4.0.11)\n",
      "Requirement already satisfied: googleapis-common-protos<2.0.dev0,>=1.56.2 in /Users/joey_hong/opt/anaconda3/envs/llm_rl/lib/python3.9/site-packages (from google-api-core!=2.0.*,!=2.1.*,!=2.2.*,!=2.3.0,<3.0.0dev,>=1.31.5->google-cloud-storage==2.5.0->LLM-RL==1.0.0) (1.61.0)\n",
      "Requirement already satisfied: pyasn1-modules>=0.2.1 in /Users/joey_hong/opt/anaconda3/envs/llm_rl/lib/python3.9/site-packages (from google-auth>=1.2->gcsfs==2022.8.2->LLM-RL==1.0.0) (0.3.0)\n",
      "Requirement already satisfied: rsa<5,>=3.1.4 in /Users/joey_hong/opt/anaconda3/envs/llm_rl/lib/python3.9/site-packages (from google-auth>=1.2->gcsfs==2022.8.2->LLM-RL==1.0.0) (4.9)\n",
      "Requirement already satisfied: google-crc32c<2.0dev,>=1.0 in /Users/joey_hong/opt/anaconda3/envs/llm_rl/lib/python3.9/site-packages (from google-resumable-media>=2.3.2->google-cloud-storage==2.5.0->LLM-RL==1.0.0) (1.5.0)\n",
      "Requirement already satisfied: cloudpickle>=1.2.0 in /Users/joey_hong/opt/anaconda3/envs/llm_rl/lib/python3.9/site-packages (from gym<0.26,>=0.10.11->textworld@ git+https://github.com/jxihong/TextWorld.git@main->LLM-RL==1.0.0) (2.2.1)\n",
      "Requirement already satisfied: gym-notices>=0.0.4 in /Users/joey_hong/opt/anaconda3/envs/llm_rl/lib/python3.9/site-packages (from gym<0.26,>=0.10.11->textworld@ git+https://github.com/jxihong/TextWorld.git@main->LLM-RL==1.0.0) (0.0.8)\n",
      "Requirement already satisfied: zipp>=0.5 in /Users/joey_hong/opt/anaconda3/envs/llm_rl/lib/python3.9/site-packages (from importlib-metadata>=3.6.0->Flask==2.2.1->LLM-RL==1.0.0) (3.16.2)\n",
      "Requirement already satisfied: parso<0.9.0,>=0.8.3 in /Users/joey_hong/opt/anaconda3/envs/llm_rl/lib/python3.9/site-packages (from jedi>=0.16->IPython->LLM-RL==1.0.0) (0.8.3)\n",
      "Requirement already satisfied: spacy>=2.1.0 in /Users/joey_hong/opt/anaconda3/envs/llm_rl/lib/python3.9/site-packages (from jericho>=3.0.3->textworld@ git+https://github.com/jxihong/TextWorld.git@main->LLM-RL==1.0.0) (3.6.1)\n",
      "Requirement already satisfied: MarkupSafe>=2.0 in /Users/joey_hong/opt/anaconda3/envs/llm_rl/lib/python3.9/site-packages (from Jinja2>=3.0->Flask==2.2.1->LLM-RL==1.0.0) (2.1.3)\n",
      "Requirement already satisfied: pytz>=2020.1 in /Users/joey_hong/opt/anaconda3/envs/llm_rl/lib/python3.9/site-packages (from pandas<2,>=0.25->streamlit==1.20.0->LLM-RL==1.0.0) (2023.3.post1)\n",
      "Requirement already satisfied: ptyprocess>=0.5 in /Users/joey_hong/opt/anaconda3/envs/llm_rl/lib/python3.9/site-packages (from pexpect>4.3->IPython->LLM-RL==1.0.0) (0.7.0)\n",
      "Requirement already satisfied: wcwidth in /Users/joey_hong/opt/anaconda3/envs/llm_rl/lib/python3.9/site-packages (from prompt-toolkit!=3.0.37,<3.1.0,>=3.0.30->IPython->LLM-RL==1.0.0) (0.2.6)\n",
      "Requirement already satisfied: idna<4,>=2.5 in /Users/joey_hong/opt/anaconda3/envs/llm_rl/lib/python3.9/site-packages (from requests->gcsfs==2022.8.2->LLM-RL==1.0.0) (3.4)\n",
      "Requirement already satisfied: urllib3<3,>=1.21.1 in /Users/joey_hong/opt/anaconda3/envs/llm_rl/lib/python3.9/site-packages (from requests->gcsfs==2022.8.2->LLM-RL==1.0.0) (1.26.16)\n",
      "Requirement already satisfied: certifi>=2017.4.17 in /Users/joey_hong/opt/anaconda3/envs/llm_rl/lib/python3.9/site-packages (from requests->gcsfs==2022.8.2->LLM-RL==1.0.0) (2023.7.22)\n",
      "Requirement already satisfied: markdown-it-py>=2.2.0 in /Users/joey_hong/opt/anaconda3/envs/llm_rl/lib/python3.9/site-packages (from rich>=11.1->flax==0.7.2->LLM-RL==1.0.0) (3.0.0)\n",
      "Requirement already satisfied: requests-oauthlib>=0.7.0 in /Users/joey_hong/opt/anaconda3/envs/llm_rl/lib/python3.9/site-packages (from google-auth-oauthlib->gcsfs==2022.8.2->LLM-RL==1.0.0) (1.3.1)\n",
      "Requirement already satisfied: cached_property in /Users/joey_hong/opt/anaconda3/envs/llm_rl/lib/python3.9/site-packages (from orbax-checkpoint->flax==0.7.2->LLM-RL==1.0.0) (1.5.2)\n",
      "Requirement already satisfied: importlib_resources in /Users/joey_hong/opt/anaconda3/envs/llm_rl/lib/python3.9/site-packages (from orbax-checkpoint->flax==0.7.2->LLM-RL==1.0.0) (6.0.1)\n",
      "Requirement already satisfied: etils in /Users/joey_hong/opt/anaconda3/envs/llm_rl/lib/python3.9/site-packages (from orbax-checkpoint->flax==0.7.2->LLM-RL==1.0.0) (1.5.1)\n",
      "Requirement already satisfied: nest_asyncio in /Users/joey_hong/opt/anaconda3/envs/llm_rl/lib/python3.9/site-packages (from orbax-checkpoint->flax==0.7.2->LLM-RL==1.0.0) (1.5.7)\n",
      "Requirement already satisfied: threadpoolctl>=2.0.0 in /Users/joey_hong/opt/anaconda3/envs/llm_rl/lib/python3.9/site-packages (from scikit-learn->sklearn==0.0->LLM-RL==1.0.0) (3.2.0)\n",
      "Requirement already satisfied: executing>=1.2.0 in /Users/joey_hong/opt/anaconda3/envs/llm_rl/lib/python3.9/site-packages (from stack-data->IPython->LLM-RL==1.0.0) (1.2.0)\n",
      "Requirement already satisfied: asttokens>=2.1.0 in /Users/joey_hong/opt/anaconda3/envs/llm_rl/lib/python3.9/site-packages (from stack-data->IPython->LLM-RL==1.0.0) (2.4.0)\n",
      "Requirement already satisfied: pure-eval in /Users/joey_hong/opt/anaconda3/envs/llm_rl/lib/python3.9/site-packages (from stack-data->IPython->LLM-RL==1.0.0) (0.2.2)\n",
      "Requirement already satisfied: smmap<6,>=3.0.1 in /Users/joey_hong/opt/anaconda3/envs/llm_rl/lib/python3.9/site-packages (from gitdb<5,>=4.0.1->gitpython!=3.1.19->streamlit==1.20.0->LLM-RL==1.0.0) (5.0.1)\n",
      "Requirement already satisfied: jsonschema-specifications>=2023.03.6 in /Users/joey_hong/opt/anaconda3/envs/llm_rl/lib/python3.9/site-packages (from jsonschema>=3.0->altair<5,>=3.2.0->streamlit==1.20.0->LLM-RL==1.0.0) (2023.7.1)\n",
      "Requirement already satisfied: referencing>=0.28.4 in /Users/joey_hong/opt/anaconda3/envs/llm_rl/lib/python3.9/site-packages (from jsonschema>=3.0->altair<5,>=3.2.0->streamlit==1.20.0->LLM-RL==1.0.0) (0.30.2)\n",
      "Requirement already satisfied: rpds-py>=0.7.1 in /Users/joey_hong/opt/anaconda3/envs/llm_rl/lib/python3.9/site-packages (from jsonschema>=3.0->altair<5,>=3.2.0->streamlit==1.20.0->LLM-RL==1.0.0) (0.10.2)\n",
      "Requirement already satisfied: mdurl~=0.1 in /Users/joey_hong/opt/anaconda3/envs/llm_rl/lib/python3.9/site-packages (from markdown-it-py>=2.2.0->rich>=11.1->flax==0.7.2->LLM-RL==1.0.0) (0.1.2)\n",
      "Requirement already satisfied: pyasn1<0.6.0,>=0.4.6 in /Users/joey_hong/opt/anaconda3/envs/llm_rl/lib/python3.9/site-packages (from pyasn1-modules>=0.2.1->google-auth>=1.2->gcsfs==2022.8.2->LLM-RL==1.0.0) (0.5.0)\n",
      "Requirement already satisfied: oauthlib>=3.0.0 in /Users/joey_hong/opt/anaconda3/envs/llm_rl/lib/python3.9/site-packages (from requests-oauthlib>=0.7.0->google-auth-oauthlib->gcsfs==2022.8.2->LLM-RL==1.0.0) (3.2.2)\n",
      "Requirement already satisfied: spacy-legacy<3.1.0,>=3.0.11 in /Users/joey_hong/opt/anaconda3/envs/llm_rl/lib/python3.9/site-packages (from spacy>=2.1.0->jericho>=3.0.3->textworld@ git+https://github.com/jxihong/TextWorld.git@main->LLM-RL==1.0.0) (3.0.12)\n",
      "Requirement already satisfied: spacy-loggers<2.0.0,>=1.0.0 in /Users/joey_hong/opt/anaconda3/envs/llm_rl/lib/python3.9/site-packages (from spacy>=2.1.0->jericho>=3.0.3->textworld@ git+https://github.com/jxihong/TextWorld.git@main->LLM-RL==1.0.0) (1.0.4)\n",
      "Requirement already satisfied: murmurhash<1.1.0,>=0.28.0 in /Users/joey_hong/opt/anaconda3/envs/llm_rl/lib/python3.9/site-packages (from spacy>=2.1.0->jericho>=3.0.3->textworld@ git+https://github.com/jxihong/TextWorld.git@main->LLM-RL==1.0.0) (1.0.9)\n",
      "Requirement already satisfied: cymem<2.1.0,>=2.0.2 in /Users/joey_hong/opt/anaconda3/envs/llm_rl/lib/python3.9/site-packages (from spacy>=2.1.0->jericho>=3.0.3->textworld@ git+https://github.com/jxihong/TextWorld.git@main->LLM-RL==1.0.0) (2.0.7)\n",
      "Requirement already satisfied: preshed<3.1.0,>=3.0.2 in /Users/joey_hong/opt/anaconda3/envs/llm_rl/lib/python3.9/site-packages (from spacy>=2.1.0->jericho>=3.0.3->textworld@ git+https://github.com/jxihong/TextWorld.git@main->LLM-RL==1.0.0) (3.0.8)\n",
      "Requirement already satisfied: thinc<8.2.0,>=8.1.8 in /Users/joey_hong/opt/anaconda3/envs/llm_rl/lib/python3.9/site-packages (from spacy>=2.1.0->jericho>=3.0.3->textworld@ git+https://github.com/jxihong/TextWorld.git@main->LLM-RL==1.0.0) (8.1.12)\n",
      "Requirement already satisfied: wasabi<1.2.0,>=0.9.1 in /Users/joey_hong/opt/anaconda3/envs/llm_rl/lib/python3.9/site-packages (from spacy>=2.1.0->jericho>=3.0.3->textworld@ git+https://github.com/jxihong/TextWorld.git@main->LLM-RL==1.0.0) (1.1.2)\n",
      "Requirement already satisfied: srsly<3.0.0,>=2.4.3 in /Users/joey_hong/opt/anaconda3/envs/llm_rl/lib/python3.9/site-packages (from spacy>=2.1.0->jericho>=3.0.3->textworld@ git+https://github.com/jxihong/TextWorld.git@main->LLM-RL==1.0.0) (2.4.7)\n",
      "Requirement already satisfied: catalogue<2.1.0,>=2.0.6 in /Users/joey_hong/opt/anaconda3/envs/llm_rl/lib/python3.9/site-packages (from spacy>=2.1.0->jericho>=3.0.3->textworld@ git+https://github.com/jxihong/TextWorld.git@main->LLM-RL==1.0.0) (2.0.9)\n",
      "Requirement already satisfied: typer<0.10.0,>=0.3.0 in /Users/joey_hong/opt/anaconda3/envs/llm_rl/lib/python3.9/site-packages (from spacy>=2.1.0->jericho>=3.0.3->textworld@ git+https://github.com/jxihong/TextWorld.git@main->LLM-RL==1.0.0) (0.9.0)\n",
      "Requirement already satisfied: pathy>=0.10.0 in /Users/joey_hong/opt/anaconda3/envs/llm_rl/lib/python3.9/site-packages (from spacy>=2.1.0->jericho>=3.0.3->textworld@ git+https://github.com/jxihong/TextWorld.git@main->LLM-RL==1.0.0) (0.10.2)\n",
      "Requirement already satisfied: smart-open<7.0.0,>=5.2.1 in /Users/joey_hong/opt/anaconda3/envs/llm_rl/lib/python3.9/site-packages (from spacy>=2.1.0->jericho>=3.0.3->textworld@ git+https://github.com/jxihong/TextWorld.git@main->LLM-RL==1.0.0) (6.3.0)\n",
      "Requirement already satisfied: pydantic!=1.8,!=1.8.1,<3.0.0,>=1.7.4 in /Users/joey_hong/opt/anaconda3/envs/llm_rl/lib/python3.9/site-packages (from spacy>=2.1.0->jericho>=3.0.3->textworld@ git+https://github.com/jxihong/TextWorld.git@main->LLM-RL==1.0.0) (2.3.0)\n",
      "Requirement already satisfied: langcodes<4.0.0,>=3.2.0 in /Users/joey_hong/opt/anaconda3/envs/llm_rl/lib/python3.9/site-packages (from spacy>=2.1.0->jericho>=3.0.3->textworld@ git+https://github.com/jxihong/TextWorld.git@main->LLM-RL==1.0.0) (3.3.0)\n",
      "Requirement already satisfied: annotated-types>=0.4.0 in /Users/joey_hong/opt/anaconda3/envs/llm_rl/lib/python3.9/site-packages (from pydantic!=1.8,!=1.8.1,<3.0.0,>=1.7.4->spacy>=2.1.0->jericho>=3.0.3->textworld@ git+https://github.com/jxihong/TextWorld.git@main->LLM-RL==1.0.0) (0.5.0)\n",
      "Requirement already satisfied: pydantic-core==2.6.3 in /Users/joey_hong/opt/anaconda3/envs/llm_rl/lib/python3.9/site-packages (from pydantic!=1.8,!=1.8.1,<3.0.0,>=1.7.4->spacy>=2.1.0->jericho>=3.0.3->textworld@ git+https://github.com/jxihong/TextWorld.git@main->LLM-RL==1.0.0) (2.6.3)\n",
      "Requirement already satisfied: blis<0.8.0,>=0.7.8 in /Users/joey_hong/opt/anaconda3/envs/llm_rl/lib/python3.9/site-packages (from thinc<8.2.0,>=8.1.8->spacy>=2.1.0->jericho>=3.0.3->textworld@ git+https://github.com/jxihong/TextWorld.git@main->LLM-RL==1.0.0) (0.7.10)\n",
      "Requirement already satisfied: confection<1.0.0,>=0.0.1 in /Users/joey_hong/opt/anaconda3/envs/llm_rl/lib/python3.9/site-packages (from thinc<8.2.0,>=8.1.8->spacy>=2.1.0->jericho>=3.0.3->textworld@ git+https://github.com/jxihong/TextWorld.git@main->LLM-RL==1.0.0) (0.1.1)\n",
      "Building wheels for collected packages: LLM-RL\n",
      "  Building wheel for LLM-RL (setup.py) ... \u001b[?25ldone\n",
      "\u001b[?25h  Created wheel for LLM-RL: filename=LLM_RL-1.0.0-py3-none-any.whl size=532764 sha256=ae6ba0e98cda88ed825a56bffb4ef4f6321653a2f6eb1f480e771a79cf2b7289\n",
      "  Stored in directory: /private/var/folders/g8/fjsx340n323bwwsqrm78z0y40000gp/T/pip-ephem-wheel-cache-wofpu8vg/wheels/e9/da/91/7c385f98ea57e99af88308c8a62fc1119bb0070725f08c064e\n",
      "Successfully built LLM-RL\n",
      "Installing collected packages: LLM-RL\n",
      "  Attempting uninstall: LLM-RL\n",
      "    Found existing installation: LLM-RL 1.0.0\n",
      "    Uninstalling LLM-RL-1.0.0:\n",
      "      Successfully uninstalled LLM-RL-1.0.0\n",
      "Successfully installed LLM-RL-1.0.0\n"
     ]
    }
   ],
   "source": [
    "import os\n",
    "\n",
    "LLM_RL_dir = \"/Users/joey_hong/LLM_RL\"  # replace with path to LLM_RL directory\n",
    "os.chdir(LLM_RL_dir)\n",
    "\n",
    "!pip install ."
   ]
  },
  {
   "cell_type": "code",
   "execution_count": 2,
   "id": "115632da",
   "metadata": {},
   "outputs": [
    {
     "ename": "ContextualVersionConflict",
     "evalue": "(gym 0.26.2 (/home/isadoracw/miniconda3/envs/LLM_RL/lib/python3.9/site-packages), Requirement.parse('gym<0.26,>=0.10.11'), {'textworld'})",
     "output_type": "error",
     "traceback": [
      "\u001b[0;31m---------------------------------------------------------------------------\u001b[0m",
      "\u001b[0;31mContextualVersionConflict\u001b[0m                 Traceback (most recent call last)",
      "\u001b[1;32m/home/isadoracw/isadoracw/LLM_RL/llm_rl_scripts/text_nav/notebooks/play_game.ipynb Cell 4\u001b[0m line \u001b[0;36m1\n\u001b[0;32m----> <a href='vscode-notebook-cell://ssh-remote%2Banikait-tpu-4-y/home/isadoracw/isadoracw/LLM_RL/llm_rl_scripts/text_nav/notebooks/play_game.ipynb#W1sdnNjb2RlLXJlbW90ZQ%3D%3D?line=0'>1</a>\u001b[0m \u001b[39mimport\u001b[39;00m \u001b[39mtextworld\u001b[39;00m\n\u001b[1;32m      <a href='vscode-notebook-cell://ssh-remote%2Banikait-tpu-4-y/home/isadoracw/isadoracw/LLM_RL/llm_rl_scripts/text_nav/notebooks/play_game.ipynb#W1sdnNjb2RlLXJlbW90ZQ%3D%3D?line=1'>2</a>\u001b[0m \u001b[39mfrom\u001b[39;00m \u001b[39mllm_rl_scripts\u001b[39;00m\u001b[39m.\u001b[39;00m\u001b[39mtext_nav\u001b[39;00m\u001b[39m.\u001b[39;00m\u001b[39menv\u001b[39;00m \u001b[39mimport\u001b[39;00m TextNavEnv\n\u001b[1;32m      <a href='vscode-notebook-cell://ssh-remote%2Banikait-tpu-4-y/home/isadoracw/isadoracw/LLM_RL/llm_rl_scripts/text_nav/notebooks/play_game.ipynb#W1sdnNjb2RlLXJlbW90ZQ%3D%3D?line=2'>3</a>\u001b[0m \u001b[39mfrom\u001b[39;00m \u001b[39mllm_rl_scripts\u001b[39;00m\u001b[39m.\u001b[39;00m\u001b[39mtext_nav\u001b[39;00m\u001b[39m.\u001b[39;00m\u001b[39menv\u001b[39;00m\u001b[39m.\u001b[39;00m\u001b[39menv\u001b[39;00m \u001b[39mimport\u001b[39;00m play\n",
      "File \u001b[0;32m~/miniconda3/envs/LLM_RL/lib/python3.9/site-packages/textworld/__init__.py:11\u001b[0m\n\u001b[1;32m      9\u001b[0m \u001b[39mfrom\u001b[39;00m \u001b[39mtextworld\u001b[39;00m\u001b[39m.\u001b[39;00m\u001b[39mcore\u001b[39;00m \u001b[39mimport\u001b[39;00m EnvInfos, EnvInfoMissingError\n\u001b[1;32m     10\u001b[0m \u001b[39mfrom\u001b[39;00m \u001b[39mtextworld\u001b[39;00m\u001b[39m.\u001b[39;00m\u001b[39mcore\u001b[39;00m \u001b[39mimport\u001b[39;00m Environment, GameState, Agent\n\u001b[0;32m---> 11\u001b[0m \u001b[39mfrom\u001b[39;00m \u001b[39mtextworld\u001b[39;00m\u001b[39m.\u001b[39;00m\u001b[39mgenerator\u001b[39;00m \u001b[39mimport\u001b[39;00m Game, GameMaker, GameOptions\n\u001b[1;32m     13\u001b[0m \u001b[39mfrom\u001b[39;00m \u001b[39mtextworld\u001b[39;00m\u001b[39m.\u001b[39;00m\u001b[39mgenerator\u001b[39;00m \u001b[39mimport\u001b[39;00m GenerationWarning\n\u001b[1;32m     15\u001b[0m \u001b[39mfrom\u001b[39;00m \u001b[39mtextworld\u001b[39;00m\u001b[39m.\u001b[39;00m\u001b[39mhelpers\u001b[39;00m \u001b[39mimport\u001b[39;00m make, play, start\n",
      "File \u001b[0;32m~/miniconda3/envs/LLM_RL/lib/python3.9/site-packages/textworld/generator/__init__.py:24\u001b[0m\n\u001b[1;32m     21\u001b[0m \u001b[39mfrom\u001b[39;00m \u001b[39mtextworld\u001b[39;00m\u001b[39m.\u001b[39;00m\u001b[39mgenerator\u001b[39;00m\u001b[39m.\u001b[39;00m\u001b[39mgraph_networks\u001b[39;00m \u001b[39mimport\u001b[39;00m create_map, create_small_map\n\u001b[1;32m     22\u001b[0m \u001b[39mfrom\u001b[39;00m \u001b[39mtextworld\u001b[39;00m\u001b[39m.\u001b[39;00m\u001b[39mgenerator\u001b[39;00m\u001b[39m.\u001b[39;00m\u001b[39mtext_generation\u001b[39;00m \u001b[39mimport\u001b[39;00m generate_text_from_grammar\n\u001b[0;32m---> 24\u001b[0m \u001b[39mfrom\u001b[39;00m \u001b[39mtextworld\u001b[39;00m\u001b[39m.\u001b[39;00m\u001b[39mgenerator\u001b[39;00m \u001b[39mimport\u001b[39;00m inform7\n\u001b[1;32m     25\u001b[0m \u001b[39mfrom\u001b[39;00m \u001b[39mtextworld\u001b[39;00m\u001b[39m.\u001b[39;00m\u001b[39mgenerator\u001b[39;00m\u001b[39m.\u001b[39;00m\u001b[39minform7\u001b[39;00m \u001b[39mimport\u001b[39;00m generate_inform7_source, compile_inform7_game\n\u001b[1;32m     26\u001b[0m \u001b[39mfrom\u001b[39;00m \u001b[39mtextworld\u001b[39;00m\u001b[39m.\u001b[39;00m\u001b[39mgenerator\u001b[39;00m\u001b[39m.\u001b[39;00m\u001b[39minform7\u001b[39;00m \u001b[39mimport\u001b[39;00m CouldNotCompileGameError\n",
      "File \u001b[0;32m~/miniconda3/envs/LLM_RL/lib/python3.9/site-packages/textworld/generator/inform7/__init__.py:5\u001b[0m\n\u001b[1;32m      1\u001b[0m \u001b[39m# Copyright (c) Microsoft Corporation. All rights reserved.\u001b[39;00m\n\u001b[1;32m      2\u001b[0m \u001b[39m# Licensed under the MIT license.\u001b[39;00m\n\u001b[0;32m----> 5\u001b[0m \u001b[39mfrom\u001b[39;00m \u001b[39mtextworld\u001b[39;00m\u001b[39m.\u001b[39;00m\u001b[39mgenerator\u001b[39;00m\u001b[39m.\u001b[39;00m\u001b[39minform7\u001b[39;00m\u001b[39m.\u001b[39;00m\u001b[39mworld2inform7\u001b[39;00m \u001b[39mimport\u001b[39;00m Inform7Game\n\u001b[1;32m      6\u001b[0m \u001b[39mfrom\u001b[39;00m \u001b[39mtextworld\u001b[39;00m\u001b[39m.\u001b[39;00m\u001b[39mgenerator\u001b[39;00m\u001b[39m.\u001b[39;00m\u001b[39minform7\u001b[39;00m\u001b[39m.\u001b[39;00m\u001b[39mworld2inform7\u001b[39;00m \u001b[39mimport\u001b[39;00m generate_inform7_source\n\u001b[1;32m      7\u001b[0m \u001b[39mfrom\u001b[39;00m \u001b[39mtextworld\u001b[39;00m\u001b[39m.\u001b[39;00m\u001b[39mgenerator\u001b[39;00m\u001b[39m.\u001b[39;00m\u001b[39minform7\u001b[39;00m\u001b[39m.\u001b[39;00m\u001b[39mworld2inform7\u001b[39;00m \u001b[39mimport\u001b[39;00m compile_inform7_game\n",
      "File \u001b[0;32m~/miniconda3/envs/LLM_RL/lib/python3.9/site-packages/textworld/generator/inform7/world2inform7.py:24\u001b[0m\n\u001b[1;32m     20\u001b[0m \u001b[39mfrom\u001b[39;00m \u001b[39mtextworld\u001b[39;00m\u001b[39m.\u001b[39;00m\u001b[39mgenerator\u001b[39;00m\u001b[39m.\u001b[39;00m\u001b[39mworld\u001b[39;00m \u001b[39mimport\u001b[39;00m WorldRoom, WorldEntity\n\u001b[1;32m     21\u001b[0m \u001b[39mfrom\u001b[39;00m \u001b[39mtextworld\u001b[39;00m\u001b[39m.\u001b[39;00m\u001b[39mlogic\u001b[39;00m \u001b[39mimport\u001b[39;00m Signature, Proposition, Action, Variable\n\u001b[0;32m---> 24\u001b[0m I7_DEFAULT_PATH \u001b[39m=\u001b[39m resource_filename(Requirement\u001b[39m.\u001b[39;49mparse(\u001b[39m'\u001b[39;49m\u001b[39mtextworld\u001b[39;49m\u001b[39m'\u001b[39;49m), \u001b[39m'\u001b[39;49m\u001b[39mtextworld/thirdparty/inform7-6M62\u001b[39;49m\u001b[39m'\u001b[39;49m)\n\u001b[1;32m     27\u001b[0m \u001b[39mclass\u001b[39;00m \u001b[39mTextworldInform7Warning\u001b[39;00m(\u001b[39mUserWarning\u001b[39;00m):\n\u001b[1;32m     28\u001b[0m     \u001b[39mpass\u001b[39;00m\n",
      "File \u001b[0;32m~/miniconda3/envs/LLM_RL/lib/python3.9/site-packages/pkg_resources/__init__.py:1211\u001b[0m, in \u001b[0;36mResourceManager.resource_filename\u001b[0;34m(self, package_or_requirement, resource_name)\u001b[0m\n\u001b[1;32m   1209\u001b[0m \u001b[39mdef\u001b[39;00m \u001b[39mresource_filename\u001b[39m(\u001b[39mself\u001b[39m, package_or_requirement, resource_name):\n\u001b[1;32m   1210\u001b[0m \u001b[39m    \u001b[39m\u001b[39m\"\"\"Return a true filesystem path for specified resource\"\"\"\u001b[39;00m\n\u001b[0;32m-> 1211\u001b[0m     \u001b[39mreturn\u001b[39;00m get_provider(package_or_requirement)\u001b[39m.\u001b[39mget_resource_filename(\n\u001b[1;32m   1212\u001b[0m         \u001b[39mself\u001b[39m, resource_name\n\u001b[1;32m   1213\u001b[0m     )\n",
      "File \u001b[0;32m~/miniconda3/envs/LLM_RL/lib/python3.9/site-packages/pkg_resources/__init__.py:398\u001b[0m, in \u001b[0;36mget_provider\u001b[0;34m(moduleOrReq)\u001b[0m\n\u001b[1;32m    396\u001b[0m \u001b[39m\u001b[39m\u001b[39m\"\"\"Return an IResourceProvider for the named module or requirement\"\"\"\u001b[39;00m\n\u001b[1;32m    397\u001b[0m \u001b[39mif\u001b[39;00m \u001b[39misinstance\u001b[39m(moduleOrReq, Requirement):\n\u001b[0;32m--> 398\u001b[0m     \u001b[39mreturn\u001b[39;00m working_set\u001b[39m.\u001b[39mfind(moduleOrReq) \u001b[39mor\u001b[39;00m require(\u001b[39mstr\u001b[39;49m(moduleOrReq))[\u001b[39m0\u001b[39m]\n\u001b[1;32m    399\u001b[0m \u001b[39mtry\u001b[39;00m:\n\u001b[1;32m    400\u001b[0m     module \u001b[39m=\u001b[39m sys\u001b[39m.\u001b[39mmodules[moduleOrReq]\n",
      "File \u001b[0;32m~/miniconda3/envs/LLM_RL/lib/python3.9/site-packages/pkg_resources/__init__.py:966\u001b[0m, in \u001b[0;36mWorkingSet.require\u001b[0;34m(self, *requirements)\u001b[0m\n\u001b[1;32m    957\u001b[0m \u001b[39mdef\u001b[39;00m \u001b[39mrequire\u001b[39m(\u001b[39mself\u001b[39m, \u001b[39m*\u001b[39mrequirements):\n\u001b[1;32m    958\u001b[0m \u001b[39m    \u001b[39m\u001b[39m\"\"\"Ensure that distributions matching `requirements` are activated\u001b[39;00m\n\u001b[1;32m    959\u001b[0m \n\u001b[1;32m    960\u001b[0m \u001b[39m    `requirements` must be a string or a (possibly-nested) sequence\u001b[39;00m\n\u001b[0;32m   (...)\u001b[0m\n\u001b[1;32m    964\u001b[0m \u001b[39m    included, even if they were already activated in this working set.\u001b[39;00m\n\u001b[1;32m    965\u001b[0m \u001b[39m    \"\"\"\u001b[39;00m\n\u001b[0;32m--> 966\u001b[0m     needed \u001b[39m=\u001b[39m \u001b[39mself\u001b[39;49m\u001b[39m.\u001b[39;49mresolve(parse_requirements(requirements))\n\u001b[1;32m    968\u001b[0m     \u001b[39mfor\u001b[39;00m dist \u001b[39min\u001b[39;00m needed:\n\u001b[1;32m    969\u001b[0m         \u001b[39mself\u001b[39m\u001b[39m.\u001b[39madd(dist)\n",
      "File \u001b[0;32m~/miniconda3/envs/LLM_RL/lib/python3.9/site-packages/pkg_resources/__init__.py:827\u001b[0m, in \u001b[0;36mWorkingSet.resolve\u001b[0;34m(self, requirements, env, installer, replace_conflicting, extras)\u001b[0m\n\u001b[1;32m    824\u001b[0m \u001b[39mif\u001b[39;00m \u001b[39mnot\u001b[39;00m req_extras\u001b[39m.\u001b[39mmarkers_pass(req, extras):\n\u001b[1;32m    825\u001b[0m     \u001b[39mcontinue\u001b[39;00m\n\u001b[0;32m--> 827\u001b[0m dist \u001b[39m=\u001b[39m \u001b[39mself\u001b[39;49m\u001b[39m.\u001b[39;49m_resolve_dist(\n\u001b[1;32m    828\u001b[0m     req, best, replace_conflicting, env, installer, required_by, to_activate\n\u001b[1;32m    829\u001b[0m )\n\u001b[1;32m    831\u001b[0m \u001b[39m# push the new requirements onto the stack\u001b[39;00m\n\u001b[1;32m    832\u001b[0m new_requirements \u001b[39m=\u001b[39m dist\u001b[39m.\u001b[39mrequires(req\u001b[39m.\u001b[39mextras)[::\u001b[39m-\u001b[39m\u001b[39m1\u001b[39m]\n",
      "File \u001b[0;32m~/miniconda3/envs/LLM_RL/lib/python3.9/site-packages/pkg_resources/__init__.py:873\u001b[0m, in \u001b[0;36mWorkingSet._resolve_dist\u001b[0;34m(self, req, best, replace_conflicting, env, installer, required_by, to_activate)\u001b[0m\n\u001b[1;32m    870\u001b[0m \u001b[39mif\u001b[39;00m dist \u001b[39mnot\u001b[39;00m \u001b[39min\u001b[39;00m req:\n\u001b[1;32m    871\u001b[0m     \u001b[39m# Oops, the \"best\" so far conflicts with a dependency\u001b[39;00m\n\u001b[1;32m    872\u001b[0m     dependent_req \u001b[39m=\u001b[39m required_by[req]\n\u001b[0;32m--> 873\u001b[0m     \u001b[39mraise\u001b[39;00m VersionConflict(dist, req)\u001b[39m.\u001b[39mwith_context(dependent_req)\n\u001b[1;32m    874\u001b[0m \u001b[39mreturn\u001b[39;00m dist\n",
      "\u001b[0;31mContextualVersionConflict\u001b[0m: (gym 0.26.2 (/home/isadoracw/miniconda3/envs/LLM_RL/lib/python3.9/site-packages), Requirement.parse('gym<0.26,>=0.10.11'), {'textworld'})"
     ]
    }
   ],
   "source": [
    "import textworld\n",
    "from llm_rl_scripts.text_nav.env import TextNavEnv\n",
    "from llm_rl_scripts.text_nav.env.env import play"
   ]
  },
  {
   "cell_type": "markdown",
   "id": "496f648b",
   "metadata": {},
   "source": [
    "### Change display_location, display_inventory to True to play the full-information version"
   ]
  },
  {
   "cell_type": "code",
   "execution_count": 3,
   "id": "aa9408c5",
   "metadata": {},
   "outputs": [
    {
     "name": "stdout",
     "output_type": "stream",
     "text": [
      "\n",
      "\n",
      "\n",
      "You are now playing a profound round of TextWorld! Your task for today is to\n",
      "close the fridge in the kitchen.\n",
      "\n",
      " You lean against the wall, inadvertently pressing a secret button. The wall\n",
      "opens up to reveal a fridge.\n",
      "\n",
      "There are unguarded exits to the east, north and west.\n",
      "\n",
      "Admissible commands: go east, go north, go west, open fridge\n",
      "\n"
     ]
    }
   ],
   "source": [
    "env = TextNavEnv(\n",
    "    display_location=False, display_inventory=False)\n",
    "env.render()"
   ]
  },
  {
   "cell_type": "markdown",
   "id": "07d9d3ed",
   "metadata": {},
   "source": [
    "### Below is an example playthrough of the game. You have 15 turns to accomplish the objective. A successful playthrough will yield a score of 1."
   ]
  },
  {
   "cell_type": "code",
   "execution_count": 5,
   "id": "fde6ccd1",
   "metadata": {},
   "outputs": [
    {
     "name": "stdout",
     "output_type": "stream",
     "text": [
      "\n",
      "\n",
      "\n",
      "Your objective is to put the stale food on the table in the living room into the\n",
      "fridge in the kitchen.\n",
      "\n",
      " You can see a fridge, so there's that.\n",
      "\n",
      "There are unblocked exits to the east, north and west.\n",
      "\n",
      "Admissible commands: go east, go north, go west, open fridge\n",
      "\n",
      "Available actions: ['go east', 'go north', 'go west', 'open fridge']\n",
      "\n"
     ]
    },
    {
     "name": "stdout",
     "output_type": "stream",
     "text": [
      ">  open fridge\n"
     ]
    },
    {
     "name": "stdout",
     "output_type": "stream",
     "text": [
      "> open fridge\n",
      "You open the fridge, revealing a fruit.\n",
      "\n",
      "\n",
      "Admissible commands: close fridge, go east, go north, go west, take fruit from\n",
      "fridge\n",
      "\n",
      "Available actions: ['close fridge', 'go east', 'go north', 'go west', 'take fruit from fridge']\n",
      "\n"
     ]
    },
    {
     "name": "stdout",
     "output_type": "stream",
     "text": [
      ">  go east\n"
     ]
    },
    {
     "name": "stdout",
     "output_type": "stream",
     "text": [
      "> go east\n",
      "\n",
      " You can make out a table. The table is normal. On the table you see a coffee\n",
      "cup and a plate. Classic TextWorld.\n",
      "\n",
      "There are unblocked exits to the east and west.\n",
      "\n",
      "\n",
      "\n",
      "Admissible commands: go east, go west, take coffee cup from table, take plate\n",
      "from table\n",
      "\n",
      "Available actions: ['go east', 'go west', 'take coffee cup from table', 'take plate from table']\n",
      "\n"
     ]
    },
    {
     "name": "stdout",
     "output_type": "stream",
     "text": [
      ">  go west\n"
     ]
    },
    {
     "name": "stdout",
     "output_type": "stream",
     "text": [
      "> go west\n",
      "\n",
      " You can see a fridge, so there's that. The fridge contains a fruit.\n",
      "\n",
      "There are unblocked exits to the east, north and west.\n",
      "\n",
      "\n",
      "\n",
      "Admissible commands: close fridge, go east, go north, go west, take fruit from\n",
      "fridge\n",
      "\n",
      "Available actions: ['close fridge', 'go east', 'go north', 'go west', 'take fruit from fridge']\n",
      "\n"
     ]
    },
    {
     "name": "stdout",
     "output_type": "stream",
     "text": [
      ">  close gridge\n"
     ]
    },
    {
     "name": "stdout",
     "output_type": "stream",
     "text": [
      "> close gridge\n",
      "You can't see any such thing.\n",
      "\n",
      "Admissible commands: close fridge, go east, go north, go west, take fruit from\n",
      "fridge\n",
      "\n",
      "Available actions: ['close fridge', 'go east', 'go north', 'go west', 'take fruit from fridge']\n",
      "\n"
     ]
    },
    {
     "name": "stdout",
     "output_type": "stream",
     "text": [
      ">  close fridge\n"
     ]
    },
    {
     "name": "stdout",
     "output_type": "stream",
     "text": [
      "> close fridge\n",
      "You close the fridge.\n",
      "\n",
      "\n",
      "Admissible commands: go east, go north, go west, open fridge\n",
      "\n",
      "Available actions: ['go east', 'go north', 'go west', 'open fridge']\n",
      "\n"
     ]
    },
    {
     "name": "stdout",
     "output_type": "stream",
     "text": [
      ">  go east\n"
     ]
    },
    {
     "name": "stdout",
     "output_type": "stream",
     "text": [
      "> go east\n",
      "\n",
      " You can make out a table. The table is normal. On the table you see a coffee\n",
      "cup and a plate. Classic TextWorld.\n",
      "\n",
      "There are unblocked exits to the east and west.\n",
      "\n",
      "\n",
      "\n",
      "Admissible commands: go east, go west, take coffee cup from table, take plate\n",
      "from table\n",
      "\n",
      "Available actions: ['go east', 'go west', 'take coffee cup from table', 'take plate from table']\n",
      "\n"
     ]
    },
    {
     "name": "stdout",
     "output_type": "stream",
     "text": [
      ">  go east\n"
     ]
    },
    {
     "name": "stdout",
     "output_type": "stream",
     "text": [
      "> go east\n",
      "\n",
      " You make out a table. The table is ordinary. On the table you can see a stale\n",
      "food and a fresh food.\n",
      "\n",
      "There are unguarded exits to the east, south and west.\n",
      "\n",
      "\n",
      "\n",
      "Admissible commands: go east, go south, go west, take fresh food from table,\n",
      "take stale food from table\n",
      "\n",
      "Available actions: ['go east', 'go south', 'go west', 'take fresh food from table', 'take stale food from table']\n",
      "\n"
     ]
    },
    {
     "name": "stdout",
     "output_type": "stream",
     "text": [
      ">  take stale food from table\n"
     ]
    },
    {
     "name": "stdout",
     "output_type": "stream",
     "text": [
      "> take stale food from table\n",
      "You take the stale food from the table.\n",
      "\n",
      "\n",
      "\n",
      "Admissible commands: drop stale food, eat stale food, go east, go south, go\n",
      "west, put stale food on table, take fresh food from table\n",
      "\n",
      "Available actions: ['drop stale food', 'eat stale food', 'go east', 'go south', 'go west', 'put stale food on table', 'take fresh food from table']\n",
      "\n"
     ]
    },
    {
     "name": "stdout",
     "output_type": "stream",
     "text": [
      ">  go west\n"
     ]
    },
    {
     "name": "stdout",
     "output_type": "stream",
     "text": [
      "> go west\n",
      "\n",
      " You can make out a table. The table is normal. On the table you see a coffee\n",
      "cup and a plate. Classic TextWorld.\n",
      "\n",
      "There are unblocked exits to the east and west.\n",
      "\n",
      "\n",
      "\n",
      "Admissible commands: drop stale food, eat stale food, go east, go west, put\n",
      "stale food on table, take coffee cup from table, take plate from table\n",
      "\n",
      "Available actions: ['drop stale food', 'eat stale food', 'go east', 'go west', 'put stale food on table', 'take coffee cup from table', 'take plate from table']\n",
      "\n"
     ]
    },
    {
     "name": "stdout",
     "output_type": "stream",
     "text": [
      ">  go west\n"
     ]
    },
    {
     "name": "stdout",
     "output_type": "stream",
     "text": [
      "> go west\n",
      "\n",
      " You can see a fridge, so there's that.\n",
      "\n",
      "There are unblocked exits to the east, north and west.\n",
      "\n",
      "\n",
      "\n",
      "Admissible commands: drop stale food, eat stale food, go east, go north, go\n",
      "west, open fridge\n",
      "\n",
      "Available actions: ['drop stale food', 'eat stale food', 'go east', 'go north', 'go west', 'open fridge']\n",
      "\n"
     ]
    },
    {
     "name": "stdout",
     "output_type": "stream",
     "text": [
      ">  open fridge\n"
     ]
    },
    {
     "name": "stdout",
     "output_type": "stream",
     "text": [
      "> open fridge\n",
      "You open the fridge, revealing a fruit.\n",
      "\n",
      "\n",
      "Admissible commands: close fridge, drop stale food, eat stale food, go east, go\n",
      "north, go west, insert stale food into fridge, take fruit from fridge\n",
      "\n",
      "Available actions: ['close fridge', 'drop stale food', 'eat stale food', 'go east', 'go north', 'go west', 'insert stale food into fridge', 'take fruit from fridge']\n",
      "\n"
     ]
    },
    {
     "name": "stdout",
     "output_type": "stream",
     "text": [
      ">  insert stale food into fridge\n"
     ]
    },
    {
     "name": "stdout",
     "output_type": "stream",
     "text": [
      "> insert stale food into fridge\n",
      "You put the stale food into the fridge.\n",
      "\n",
      "\n",
      "Admissible commands: close fridge, go east, go north, go west, take fruit from\n",
      "fridge, take stale food from fridge\n",
      "\n",
      "Available actions: ['close fridge', 'go east', 'go north', 'go west', 'take fruit from fridge', 'take stale food from fridge']\n",
      "\n"
     ]
    },
    {
     "name": "stdout",
     "output_type": "stream",
     "text": [
      ">  close fridge\n"
     ]
    },
    {
     "name": "stdout",
     "output_type": "stream",
     "text": [
      "> close fridge\n",
      "You close the fridge.\n",
      "\n",
      "\n",
      "Your score has just gone up by one point.\n",
      "\n",
      "\n",
      "                               *** The End ***\n",
      "\n",
      "You scored 1 out of a possible 1, in 13 turns.\n",
      "\n",
      "\n",
      "Would you like to RESTART, RESTORE a saved game, QUIT or UNDO the last command?\n",
      ">\n",
      "Admissible commands: go east, go north, go west, open fridge\n",
      "\n",
      "Done after 12 steps. Score 1/1.\n"
     ]
    }
   ],
   "source": [
    "play(env)"
   ]
  },
  {
   "cell_type": "markdown",
   "id": "0fe5e61b",
   "metadata": {},
   "source": [
    "### Use the cell below to play the game yourself."
   ]
  },
  {
   "cell_type": "code",
   "execution_count": 10,
   "id": "e425d0c3",
   "metadata": {},
   "outputs": [
    {
     "name": "stdout",
     "output_type": "stream",
     "text": [
      "\n",
      "\n",
      "\n",
      "Your objective is to put the stale food on the table in the living room into the\n",
      "fridge in the kitchen.\n",
      "\n",
      " You rest your hand against a wall, but you miss the wall and fall onto a table.\n",
      "On the table you make out a coffee cup and a plate. It doesn't get more\n",
      "TextWorld than this!\n",
      "\n",
      "There are unblocked exits to the east and west.\n",
      "\n",
      "Admissible commands: go east, go west, take coffee cup from table, take plate\n",
      "from table\n",
      "\n",
      "Available actions: ['go east', 'go west', 'take coffee cup from table', 'take plate from table']\n",
      "\n"
     ]
    },
    {
     "name": "stdout",
     "output_type": "stream",
     "text": [
      ">  go west\n"
     ]
    },
    {
     "name": "stdout",
     "output_type": "stream",
     "text": [
      "> go west\n",
      "\n",
      " You can make out a fridge.\n",
      "\n",
      "There are unblocked exits to the east, north and west.\n",
      "\n",
      "\n",
      "\n",
      "Admissible commands: go east, go north, go west, open fridge\n",
      "\n",
      "Available actions: ['go east', 'go north', 'go west', 'open fridge']\n",
      "\n"
     ]
    },
    {
     "name": "stdout",
     "output_type": "stream",
     "text": [
      ">  go east\n"
     ]
    },
    {
     "name": "stdout",
     "output_type": "stream",
     "text": [
      "> go east\n",
      "\n",
      " You rest your hand against a wall, but you miss the wall and fall onto a table.\n",
      "On the table you make out a coffee cup and a plate. It doesn't get more\n",
      "TextWorld than this!\n",
      "\n",
      "There are unblocked exits to the east and west.\n",
      "\n",
      "\n",
      "\n",
      "Admissible commands: go east, go west, take coffee cup from table, take plate\n",
      "from table\n",
      "\n",
      "Available actions: ['go east', 'go west', 'take coffee cup from table', 'take plate from table']\n",
      "\n"
     ]
    },
    {
     "name": "stdout",
     "output_type": "stream",
     "text": [
      ">  go east\n"
     ]
    },
    {
     "name": "stdout",
     "output_type": "stream",
     "text": [
      "> go east\n",
      "\n",
      " You can see a table. The table is normal. On the table you can see a stale food\n",
      "and a fresh food.\n",
      "\n",
      "There are unguarded exits to the east, south and west.\n",
      "\n",
      "\n",
      "\n",
      "Admissible commands: go east, go south, go west, take fresh food from table,\n",
      "take stale food from table\n",
      "\n",
      "Available actions: ['go east', 'go south', 'go west', 'take fresh food from table', 'take stale food from table']\n",
      "\n"
     ]
    },
    {
     "name": "stdout",
     "output_type": "stream",
     "text": [
      ">  take stale food from table\n"
     ]
    },
    {
     "name": "stdout",
     "output_type": "stream",
     "text": [
      "> take stale food from table\n",
      "You take the stale food from the table.\n",
      "\n",
      "\n",
      "\n",
      "Admissible commands: drop stale food, eat stale food, go east, go south, go\n",
      "west, put stale food on table, take fresh food from table\n",
      "\n",
      "Available actions: ['drop stale food', 'eat stale food', 'go east', 'go south', 'go west', 'put stale food on table', 'take fresh food from table']\n",
      "\n"
     ]
    },
    {
     "name": "stdout",
     "output_type": "stream",
     "text": [
      ">  go south\n"
     ]
    },
    {
     "name": "stdout",
     "output_type": "stream",
     "text": [
      "> go south\n",
      "\n",
      " You rest your hand against a wall, but you miss the wall and fall onto a chest.\n",
      "You shudder, but continue examining the room.\n",
      "\n",
      "There are unguarded exits to the east and north.\n",
      "\n",
      "\n",
      "\n",
      "Admissible commands: drop stale food, eat stale food, go east, go north, open\n",
      "chest\n",
      "\n",
      "Available actions: ['drop stale food', 'eat stale food', 'go east', 'go north', 'open chest']\n",
      "\n"
     ]
    },
    {
     "name": "stdout",
     "output_type": "stream",
     "text": [
      ">  go north\n"
     ]
    },
    {
     "name": "stdout",
     "output_type": "stream",
     "text": [
      "> go north\n",
      "\n",
      " You can see a table. The table is normal. On the table you can see a fresh\n",
      "food.\n",
      "\n",
      "There are unguarded exits to the east, south and west.\n",
      "\n",
      "\n",
      "\n",
      "Admissible commands: drop stale food, eat stale food, go east, go south, go\n",
      "west, put stale food on table, take fresh food from table\n",
      "\n",
      "Available actions: ['drop stale food', 'eat stale food', 'go east', 'go south', 'go west', 'put stale food on table', 'take fresh food from table']\n",
      "\n"
     ]
    },
    {
     "name": "stdout",
     "output_type": "stream",
     "text": [
      ">  eat stale food\n"
     ]
    },
    {
     "name": "stdout",
     "output_type": "stream",
     "text": [
      "> eat stale food\n",
      "You eat the stale food. Not bad.\n",
      "\n",
      "\n",
      "                              *** You lost! ***\n",
      "\n",
      "You scored 0 out of a possible 1, in 7 turns.\n",
      "\n",
      "\n",
      "Would you like to RESTART, RESTORE a saved game, QUIT or UNDO the last command?\n",
      ">\n",
      "Admissible commands: go east, go south, go west, take fresh food from table\n",
      "\n",
      "Done after 6 steps. Score 0/1.\n"
     ]
    }
   ],
   "source": [
    "from IPython.display import clear_output\n",
    "import time\n",
    "\n",
    "num_games = 3   # Change to number between 10-15 (each game takes ~1 min)\n",
    "\n",
    "total_reward = 0\n",
    "for _ in range(num_games):\n",
    "    total_reward += play(env)\n",
    "    time.sleep(1)\n",
    "    clear_output(wait=True)\n",
    "\n",
    "print('Average score over {} games: {}'.format(num_games, total_reward / num_games))"
   ]
  },
  {
   "cell_type": "code",
   "execution_count": null,
   "id": "b608e381",
   "metadata": {},
   "outputs": [],
   "source": []
  }
 ],
 "metadata": {
  "kernelspec": {
   "display_name": "Python 3 (ipykernel)",
   "language": "python",
   "name": "python3"
  },
  "language_info": {
   "codemirror_mode": {
    "name": "ipython",
    "version": 3
   },
   "file_extension": ".py",
   "mimetype": "text/x-python",
   "name": "python",
   "nbconvert_exporter": "python",
   "pygments_lexer": "ipython3",
   "version": "3.9.12"
  }
 },
 "nbformat": 4,
 "nbformat_minor": 5
}
